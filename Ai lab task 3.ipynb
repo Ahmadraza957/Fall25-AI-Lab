{
 "cells": [
  {
   "cell_type": "code",
   "execution_count": null,
   "id": "444dde4b",
   "metadata": {},
   "outputs": [],
   "source": [
    "def sort_word(text):\n",
    "    words = text.split()\n",
    "    n = len(words)\n",
    "    for i in range(n):\n",
    "        for j in range(0, n-i-1):\n",
    "            if words[j].lower() > words[j+1].lower():\n",
    "                words[j], words[j+1] = words[j+1], words[j]\n",
    "    return \" \".join(words)\n",
    "\n",
    "def sort_letter(text):\n",
    "    words = text.split()\n",
    "    sorted_words = []\n",
    "    for word in words:\n",
    "        letters = list(word)\n",
    "        n = len(letters)\n",
    "        for i in range(n):\n",
    "            for j in range(0, n-i-1):\n",
    "                if letters[j].lower() > letters[j+1].lower():\n",
    "                    letters[j], letters[j+1] = letters[j+1], letters[j]\n",
    "        sorted_words.append(\"\".join(letters))\n",
    "    return \" \".join(sorted_words)\n",
    "\n",
    "input_text = \"banana apple cherry\"\n",
    "print(\"Words sorted:\", sort_word(input_text))\n",
    "print(\"Letters sorted:\", sort_letter(input_text))"
   ]
  },
  {
   "cell_type": "code",
   "execution_count": null,
   "id": "c2d6322c",
   "metadata": {},
   "outputs": [],
   "source": [
    "def remove_character(text):\n",
    "    result = \"\"\n",
    "    for char in text:\n",
    "        if char.isalnum() or char == \" \":\n",
    "            result += char\n",
    "    return result\n",
    "\n",
    "\n",
    "input_text = \"Hello! How are you? #2025\"\n",
    "print(remove_character(input_text))\n"
   ]
  },
  {
   "cell_type": "code",
   "execution_count": null,
   "id": "c6827d3f",
   "metadata": {},
   "outputs": [],
   "source": [
    "nuber_card = \"4532015112830366\"\n",
    "check_digit = int(nuber_card[-1])\n",
    "number = nuber_card[:-1]\n",
    "print(\"After removing last digit:\", number)\n",
    "print(\"Check digit:\", check_digit)\n",
    "\n",
    "reversed_number = number[::-1]\n",
    "print(\"Reversed number:\", reversed_number)\n",
    "\n",
    "digits = [int(d) for d in reversed_number]\n",
    "print(digits)\n",
    "\n",
    "for i in range(len(digits)):\n",
    "    print(f\"Original digit at index {i}: {digits[i]}\")\n",
    "    if digits[i] % 2 == 0:\n",
    "        digits[i] *= 2\n",
    "        if digits[i] > 9:\n",
    "            digits[i] -= 9\n",
    "        print(f\"After multiplying by 2 and adjusting >9: {digits[i]}\")\n",
    "    else:\n",
    "        print(\"No change (not divisible by 2)\")\n",
    "\n",
    "checksum = 0\n",
    "for d in digits:\n",
    "    checksum += d\n",
    "print( checksum)\n",
    "\n",
    "total = checksum + check_digit\n",
    "is_valid = total % 10 == 0\n",
    "print(\"Total  check digit:\", total)\n",
    "print(\"Valid \", is_valid)"
   ]
  }
 ],
 "metadata": {
  "kernelspec": {
   "display_name": "Python 3",
   "language": "python",
   "name": "python3"
  },
  "language_info": {
   "name": "python",
   "version": "3.11.9"
  }
 },
 "nbformat": 4,
 "nbformat_minor": 5
}
